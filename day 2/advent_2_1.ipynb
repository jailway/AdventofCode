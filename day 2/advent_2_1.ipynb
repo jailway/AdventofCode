{
 "cells": [
  {
   "cell_type": "markdown",
   "metadata": {},
   "source": [
    "# Imports"
   ]
  },
  {
   "cell_type": "code",
   "execution_count": 1,
   "metadata": {},
   "outputs": [],
   "source": [
    "import pandas"
   ]
  },
  {
   "cell_type": "markdown",
   "metadata": {},
   "source": [
    "# Load data"
   ]
  },
  {
   "cell_type": "code",
   "execution_count": 9,
   "metadata": {},
   "outputs": [
    {
     "data": {
      "text/html": [
       "<div>\n",
       "<style scoped>\n",
       "    .dataframe tbody tr th:only-of-type {\n",
       "        vertical-align: middle;\n",
       "    }\n",
       "\n",
       "    .dataframe tbody tr th {\n",
       "        vertical-align: top;\n",
       "    }\n",
       "\n",
       "    .dataframe thead th {\n",
       "        text-align: right;\n",
       "    }\n",
       "</style>\n",
       "<table border=\"1\" class=\"dataframe\">\n",
       "  <thead>\n",
       "    <tr style=\"text-align: right;\">\n",
       "      <th></th>\n",
       "      <th>0</th>\n",
       "    </tr>\n",
       "  </thead>\n",
       "  <tbody>\n",
       "    <tr>\n",
       "      <th>0</th>\n",
       "      <td>tqzvwnogbarflkpcbdewsmjhxi</td>\n",
       "    </tr>\n",
       "    <tr>\n",
       "      <th>1</th>\n",
       "      <td>tqyvunogzarfckpcbdewsmzhci</td>\n",
       "    </tr>\n",
       "    <tr>\n",
       "      <th>2</th>\n",
       "      <td>tqyvunojzarflkpcbdcwsmyhxi</td>\n",
       "    </tr>\n",
       "    <tr>\n",
       "      <th>3</th>\n",
       "      <td>tqyvunogzarclkpcbdewmmjrxi</td>\n",
       "    </tr>\n",
       "    <tr>\n",
       "      <th>4</th>\n",
       "      <td>hqyvunogzarflkpcbczwsmjhxi</td>\n",
       "    </tr>\n",
       "  </tbody>\n",
       "</table>\n",
       "</div>"
      ],
      "text/plain": [
       "                            0\n",
       "0  tqzvwnogbarflkpcbdewsmjhxi\n",
       "1  tqyvunogzarfckpcbdewsmzhci\n",
       "2  tqyvunojzarflkpcbdcwsmyhxi\n",
       "3  tqyvunogzarclkpcbdewmmjrxi\n",
       "4  hqyvunogzarflkpcbczwsmjhxi"
      ]
     },
     "execution_count": 9,
     "metadata": {},
     "output_type": "execute_result"
    }
   ],
   "source": [
    "data = pandas.read_csv(\"c:\\\\temp\\\\advent\\\\input_2_1.csv\",header=None)\n",
    "data.head()"
   ]
  },
  {
   "cell_type": "code",
   "execution_count": 3,
   "metadata": {},
   "outputs": [
    {
     "name": "stdout",
     "output_type": "stream",
     "text": [
      "250\n",
      "23\n"
     ]
    }
   ],
   "source": [
    "doubles = []\n",
    "triples = []\n",
    "\n",
    "for x in data[0]:\n",
    "    indoubles = 0\n",
    "    intriples = 0\n",
    "    for l in [chr(p) for p in range(ord('a'), ord('z')+1)]:\n",
    "        if x.count(l) == 2: indoubles = 1\n",
    "        if x.count(l) == 3: intriples = 1\n",
    "    if indoubles ==1: doubles.append(x)\n",
    "    if intriples ==1: triples.append(x)\n",
    "print(len(doubles))\n",
    "print(len(triples))"
   ]
  },
  {
   "cell_type": "code",
   "execution_count": 28,
   "metadata": {},
   "outputs": [
    {
     "name": "stdout",
     "output_type": "stream",
     "text": [
      "tzyvunogzariwkpcbdewsmjhxi\n",
      "tzyvunogzariwkpcbdewmmjhxi\n"
     ]
    }
   ],
   "source": [
    "for x in range(0,len(data)):\n",
    "    for y in range(x,len(data)):\n",
    "        diff = 0\n",
    "        for l in range(0,len(data[0][x])):\n",
    "            if data[0][x][l] != data[0][y][l]:\n",
    "                diff +=1\n",
    "        #print (data[0][x] +\" \" + str(diff) + \" \" + data[0][y])\n",
    "        if diff == 1: \n",
    "            print(data[0][x])\n",
    "            print(data[0][y])"
   ]
  },
  {
   "cell_type": "code",
   "execution_count": 22,
   "metadata": {},
   "outputs": [
    {
     "name": "stdout",
     "output_type": "stream",
     "text": [
      "26\n"
     ]
    }
   ],
   "source": [
    "print(len(data[0][5]))"
   ]
  }
 ],
 "metadata": {
  "kernelspec": {
   "display_name": "Python 3",
   "language": "python",
   "name": "python3"
  },
  "language_info": {
   "codemirror_mode": {
    "name": "ipython",
    "version": 3
   },
   "file_extension": ".py",
   "mimetype": "text/x-python",
   "name": "python",
   "nbconvert_exporter": "python",
   "pygments_lexer": "ipython3",
   "version": "3.6.7"
  }
 },
 "nbformat": 4,
 "nbformat_minor": 2
}
